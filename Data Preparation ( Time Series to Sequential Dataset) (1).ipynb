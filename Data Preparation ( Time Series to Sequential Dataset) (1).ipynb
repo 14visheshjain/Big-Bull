{
 "cells": [
  {
   "cell_type": "code",
   "execution_count": 1,
   "metadata": {},
   "outputs": [
    {
     "name": "stderr",
     "output_type": "stream",
     "text": [
      "Using TensorFlow backend.\n",
      "c:\\users\\vishesh jain\\appdata\\local\\programs\\python\\python36\\lib\\site-packages\\tensorflow\\python\\framework\\dtypes.py:516: FutureWarning: Passing (type, 1) or '1type' as a synonym of type is deprecated; in a future version of numpy, it will be understood as (type, (1,)) / '(1,)type'.\n",
      "  _np_qint8 = np.dtype([(\"qint8\", np.int8, 1)])\n",
      "c:\\users\\vishesh jain\\appdata\\local\\programs\\python\\python36\\lib\\site-packages\\tensorflow\\python\\framework\\dtypes.py:517: FutureWarning: Passing (type, 1) or '1type' as a synonym of type is deprecated; in a future version of numpy, it will be understood as (type, (1,)) / '(1,)type'.\n",
      "  _np_quint8 = np.dtype([(\"quint8\", np.uint8, 1)])\n",
      "c:\\users\\vishesh jain\\appdata\\local\\programs\\python\\python36\\lib\\site-packages\\tensorflow\\python\\framework\\dtypes.py:518: FutureWarning: Passing (type, 1) or '1type' as a synonym of type is deprecated; in a future version of numpy, it will be understood as (type, (1,)) / '(1,)type'.\n",
      "  _np_qint16 = np.dtype([(\"qint16\", np.int16, 1)])\n",
      "c:\\users\\vishesh jain\\appdata\\local\\programs\\python\\python36\\lib\\site-packages\\tensorflow\\python\\framework\\dtypes.py:519: FutureWarning: Passing (type, 1) or '1type' as a synonym of type is deprecated; in a future version of numpy, it will be understood as (type, (1,)) / '(1,)type'.\n",
      "  _np_quint16 = np.dtype([(\"quint16\", np.uint16, 1)])\n",
      "c:\\users\\vishesh jain\\appdata\\local\\programs\\python\\python36\\lib\\site-packages\\tensorflow\\python\\framework\\dtypes.py:520: FutureWarning: Passing (type, 1) or '1type' as a synonym of type is deprecated; in a future version of numpy, it will be understood as (type, (1,)) / '(1,)type'.\n",
      "  _np_qint32 = np.dtype([(\"qint32\", np.int32, 1)])\n",
      "c:\\users\\vishesh jain\\appdata\\local\\programs\\python\\python36\\lib\\site-packages\\tensorflow\\python\\framework\\dtypes.py:525: FutureWarning: Passing (type, 1) or '1type' as a synonym of type is deprecated; in a future version of numpy, it will be understood as (type, (1,)) / '(1,)type'.\n",
      "  np_resource = np.dtype([(\"resource\", np.ubyte, 1)])\n",
      "c:\\users\\vishesh jain\\appdata\\local\\programs\\python\\python36\\lib\\site-packages\\tensorboard\\compat\\tensorflow_stub\\dtypes.py:541: FutureWarning: Passing (type, 1) or '1type' as a synonym of type is deprecated; in a future version of numpy, it will be understood as (type, (1,)) / '(1,)type'.\n",
      "  _np_qint8 = np.dtype([(\"qint8\", np.int8, 1)])\n",
      "c:\\users\\vishesh jain\\appdata\\local\\programs\\python\\python36\\lib\\site-packages\\tensorboard\\compat\\tensorflow_stub\\dtypes.py:542: FutureWarning: Passing (type, 1) or '1type' as a synonym of type is deprecated; in a future version of numpy, it will be understood as (type, (1,)) / '(1,)type'.\n",
      "  _np_quint8 = np.dtype([(\"quint8\", np.uint8, 1)])\n",
      "c:\\users\\vishesh jain\\appdata\\local\\programs\\python\\python36\\lib\\site-packages\\tensorboard\\compat\\tensorflow_stub\\dtypes.py:543: FutureWarning: Passing (type, 1) or '1type' as a synonym of type is deprecated; in a future version of numpy, it will be understood as (type, (1,)) / '(1,)type'.\n",
      "  _np_qint16 = np.dtype([(\"qint16\", np.int16, 1)])\n",
      "c:\\users\\vishesh jain\\appdata\\local\\programs\\python\\python36\\lib\\site-packages\\tensorboard\\compat\\tensorflow_stub\\dtypes.py:544: FutureWarning: Passing (type, 1) or '1type' as a synonym of type is deprecated; in a future version of numpy, it will be understood as (type, (1,)) / '(1,)type'.\n",
      "  _np_quint16 = np.dtype([(\"quint16\", np.uint16, 1)])\n",
      "c:\\users\\vishesh jain\\appdata\\local\\programs\\python\\python36\\lib\\site-packages\\tensorboard\\compat\\tensorflow_stub\\dtypes.py:545: FutureWarning: Passing (type, 1) or '1type' as a synonym of type is deprecated; in a future version of numpy, it will be understood as (type, (1,)) / '(1,)type'.\n",
      "  _np_qint32 = np.dtype([(\"qint32\", np.int32, 1)])\n",
      "c:\\users\\vishesh jain\\appdata\\local\\programs\\python\\python36\\lib\\site-packages\\tensorboard\\compat\\tensorflow_stub\\dtypes.py:550: FutureWarning: Passing (type, 1) or '1type' as a synonym of type is deprecated; in a future version of numpy, it will be understood as (type, (1,)) / '(1,)type'.\n",
      "  np_resource = np.dtype([(\"resource\", np.ubyte, 1)])\n"
     ]
    }
   ],
   "source": [
    "import os\n",
    "import math\n",
    "import numpy as np\n",
    "import pandas as pd\n",
    "import matplotlib.pyplot as plt"
   ]
  },
  {
   "cell_type": "code",
   "execution_count": 2,
   "metadata": {},
   "outputs": [],
   "source": [
    "data = pd.read_csv('data/reliance.csv')"
   ]
  },
  {
   "cell_type": "code",
   "execution_count": 3,
   "metadata": {},
   "outputs": [
    {
     "name": "stdout",
     "output_type": "stream",
     "text": [
      "<class 'pandas.core.frame.DataFrame'>\n",
      "RangeIndex: 5141 entries, 0 to 5140\n",
      "Data columns (total 15 columns):\n",
      "Date                  5141 non-null object\n",
      "Symbol                5141 non-null object\n",
      "Series                5141 non-null object\n",
      "Prev Close            5141 non-null float64\n",
      "Open                  5141 non-null float64\n",
      "High                  5141 non-null float64\n",
      "Low                   5141 non-null float64\n",
      "Last                  5141 non-null float64\n",
      "Close                 5141 non-null float64\n",
      "VWAP                  5141 non-null float64\n",
      "Volume                5141 non-null int64\n",
      "Turnover              5141 non-null float64\n",
      "Trades                2291 non-null float64\n",
      "Deliverable Volume    4627 non-null float64\n",
      "%Deliverble           4627 non-null float64\n",
      "dtypes: float64(11), int64(1), object(3)\n",
      "memory usage: 602.6+ KB\n"
     ]
    }
   ],
   "source": [
    "data.info()"
   ]
  },
  {
   "cell_type": "code",
   "execution_count": 6,
   "metadata": {},
   "outputs": [
    {
     "data": {
      "text/html": [
       "<div>\n",
       "<style scoped>\n",
       "    .dataframe tbody tr th:only-of-type {\n",
       "        vertical-align: middle;\n",
       "    }\n",
       "\n",
       "    .dataframe tbody tr th {\n",
       "        vertical-align: top;\n",
       "    }\n",
       "\n",
       "    .dataframe thead th {\n",
       "        text-align: right;\n",
       "    }\n",
       "</style>\n",
       "<table border=\"1\" class=\"dataframe\">\n",
       "  <thead>\n",
       "    <tr style=\"text-align: right;\">\n",
       "      <th></th>\n",
       "      <th>Prev Close</th>\n",
       "      <th>Open</th>\n",
       "      <th>High</th>\n",
       "      <th>Low</th>\n",
       "      <th>Last</th>\n",
       "      <th>Close</th>\n",
       "      <th>VWAP</th>\n",
       "      <th>Volume</th>\n",
       "      <th>Turnover</th>\n",
       "      <th>Trades</th>\n",
       "      <th>Deliverable Volume</th>\n",
       "      <th>%Deliverble</th>\n",
       "    </tr>\n",
       "  </thead>\n",
       "  <tbody>\n",
       "    <tr>\n",
       "      <th>count</th>\n",
       "      <td>5141.000000</td>\n",
       "      <td>5141.000000</td>\n",
       "      <td>5141.000000</td>\n",
       "      <td>5141.000000</td>\n",
       "      <td>5141.000000</td>\n",
       "      <td>5141.000000</td>\n",
       "      <td>5141.000000</td>\n",
       "      <td>5.141000e+03</td>\n",
       "      <td>5.141000e+03</td>\n",
       "      <td>2.291000e+03</td>\n",
       "      <td>4.627000e+03</td>\n",
       "      <td>4627.000000</td>\n",
       "    </tr>\n",
       "    <tr>\n",
       "      <th>mean</th>\n",
       "      <td>977.737065</td>\n",
       "      <td>979.234332</td>\n",
       "      <td>993.166077</td>\n",
       "      <td>963.957294</td>\n",
       "      <td>977.921659</td>\n",
       "      <td>978.096460</td>\n",
       "      <td>978.644639</td>\n",
       "      <td>5.336247e+06</td>\n",
       "      <td>5.398477e+14</td>\n",
       "      <td>1.310276e+05</td>\n",
       "      <td>2.206850e+06</td>\n",
       "      <td>0.438410</td>\n",
       "    </tr>\n",
       "    <tr>\n",
       "      <th>std</th>\n",
       "      <td>548.187888</td>\n",
       "      <td>549.657568</td>\n",
       "      <td>559.194988</td>\n",
       "      <td>537.759371</td>\n",
       "      <td>548.159898</td>\n",
       "      <td>548.305224</td>\n",
       "      <td>548.351897</td>\n",
       "      <td>4.674347e+06</td>\n",
       "      <td>7.033455e+14</td>\n",
       "      <td>1.131774e+05</td>\n",
       "      <td>1.827142e+06</td>\n",
       "      <td>0.145129</td>\n",
       "    </tr>\n",
       "    <tr>\n",
       "      <th>min</th>\n",
       "      <td>203.200000</td>\n",
       "      <td>205.500000</td>\n",
       "      <td>219.500000</td>\n",
       "      <td>197.150000</td>\n",
       "      <td>203.300000</td>\n",
       "      <td>203.200000</td>\n",
       "      <td>212.290000</td>\n",
       "      <td>5.282000e+04</td>\n",
       "      <td>4.295543e+12</td>\n",
       "      <td>2.991000e+03</td>\n",
       "      <td>2.909700e+04</td>\n",
       "      <td>0.076300</td>\n",
       "    </tr>\n",
       "    <tr>\n",
       "      <th>25%</th>\n",
       "      <td>556.050000</td>\n",
       "      <td>559.100000</td>\n",
       "      <td>568.600000</td>\n",
       "      <td>550.000000</td>\n",
       "      <td>557.550000</td>\n",
       "      <td>556.250000</td>\n",
       "      <td>557.510000</td>\n",
       "      <td>2.801842e+06</td>\n",
       "      <td>2.160521e+14</td>\n",
       "      <td>7.061900e+04</td>\n",
       "      <td>1.168824e+06</td>\n",
       "      <td>0.327050</td>\n",
       "    </tr>\n",
       "    <tr>\n",
       "      <th>50%</th>\n",
       "      <td>923.750000</td>\n",
       "      <td>925.700000</td>\n",
       "      <td>936.650000</td>\n",
       "      <td>915.100000</td>\n",
       "      <td>923.900000</td>\n",
       "      <td>924.100000</td>\n",
       "      <td>925.730000</td>\n",
       "      <td>4.129033e+06</td>\n",
       "      <td>3.557919e+14</td>\n",
       "      <td>9.688100e+04</td>\n",
       "      <td>1.765227e+06</td>\n",
       "      <td>0.455100</td>\n",
       "    </tr>\n",
       "    <tr>\n",
       "      <th>75%</th>\n",
       "      <td>1171.750000</td>\n",
       "      <td>1176.550000</td>\n",
       "      <td>1198.250000</td>\n",
       "      <td>1152.300000</td>\n",
       "      <td>1175.400000</td>\n",
       "      <td>1174.050000</td>\n",
       "      <td>1174.130000</td>\n",
       "      <td>6.335308e+06</td>\n",
       "      <td>6.248018e+14</td>\n",
       "      <td>1.491880e+05</td>\n",
       "      <td>2.640922e+06</td>\n",
       "      <td>0.547300</td>\n",
       "    </tr>\n",
       "    <tr>\n",
       "      <th>max</th>\n",
       "      <td>3220.850000</td>\n",
       "      <td>3298.000000</td>\n",
       "      <td>3298.000000</td>\n",
       "      <td>3141.300000</td>\n",
       "      <td>3223.000000</td>\n",
       "      <td>3220.850000</td>\n",
       "      <td>3197.750000</td>\n",
       "      <td>6.523089e+07</td>\n",
       "      <td>1.236080e+16</td>\n",
       "      <td>1.285533e+06</td>\n",
       "      <td>3.495888e+07</td>\n",
       "      <td>0.978300</td>\n",
       "    </tr>\n",
       "  </tbody>\n",
       "</table>\n",
       "</div>"
      ],
      "text/plain": [
       "        Prev Close         Open         High          Low         Last  \\\n",
       "count  5141.000000  5141.000000  5141.000000  5141.000000  5141.000000   \n",
       "mean    977.737065   979.234332   993.166077   963.957294   977.921659   \n",
       "std     548.187888   549.657568   559.194988   537.759371   548.159898   \n",
       "min     203.200000   205.500000   219.500000   197.150000   203.300000   \n",
       "25%     556.050000   559.100000   568.600000   550.000000   557.550000   \n",
       "50%     923.750000   925.700000   936.650000   915.100000   923.900000   \n",
       "75%    1171.750000  1176.550000  1198.250000  1152.300000  1175.400000   \n",
       "max    3220.850000  3298.000000  3298.000000  3141.300000  3223.000000   \n",
       "\n",
       "             Close         VWAP        Volume      Turnover        Trades  \\\n",
       "count  5141.000000  5141.000000  5.141000e+03  5.141000e+03  2.291000e+03   \n",
       "mean    978.096460   978.644639  5.336247e+06  5.398477e+14  1.310276e+05   \n",
       "std     548.305224   548.351897  4.674347e+06  7.033455e+14  1.131774e+05   \n",
       "min     203.200000   212.290000  5.282000e+04  4.295543e+12  2.991000e+03   \n",
       "25%     556.250000   557.510000  2.801842e+06  2.160521e+14  7.061900e+04   \n",
       "50%     924.100000   925.730000  4.129033e+06  3.557919e+14  9.688100e+04   \n",
       "75%    1174.050000  1174.130000  6.335308e+06  6.248018e+14  1.491880e+05   \n",
       "max    3220.850000  3197.750000  6.523089e+07  1.236080e+16  1.285533e+06   \n",
       "\n",
       "       Deliverable Volume  %Deliverble  \n",
       "count        4.627000e+03  4627.000000  \n",
       "mean         2.206850e+06     0.438410  \n",
       "std          1.827142e+06     0.145129  \n",
       "min          2.909700e+04     0.076300  \n",
       "25%          1.168824e+06     0.327050  \n",
       "50%          1.765227e+06     0.455100  \n",
       "75%          2.640922e+06     0.547300  \n",
       "max          3.495888e+07     0.978300  "
      ]
     },
     "execution_count": 6,
     "metadata": {},
     "output_type": "execute_result"
    }
   ],
   "source": [
    "data.describe()"
   ]
  },
  {
   "cell_type": "code",
   "execution_count": 7,
   "metadata": {},
   "outputs": [
    {
     "data": {
      "text/html": [
       "<div>\n",
       "<style scoped>\n",
       "    .dataframe tbody tr th:only-of-type {\n",
       "        vertical-align: middle;\n",
       "    }\n",
       "\n",
       "    .dataframe tbody tr th {\n",
       "        vertical-align: top;\n",
       "    }\n",
       "\n",
       "    .dataframe thead th {\n",
       "        text-align: right;\n",
       "    }\n",
       "</style>\n",
       "<table border=\"1\" class=\"dataframe\">\n",
       "  <thead>\n",
       "    <tr style=\"text-align: right;\">\n",
       "      <th></th>\n",
       "      <th>Date</th>\n",
       "      <th>Symbol</th>\n",
       "      <th>Series</th>\n",
       "      <th>Prev Close</th>\n",
       "      <th>Open</th>\n",
       "      <th>High</th>\n",
       "      <th>Low</th>\n",
       "      <th>Last</th>\n",
       "      <th>Close</th>\n",
       "      <th>VWAP</th>\n",
       "      <th>Volume</th>\n",
       "      <th>Turnover</th>\n",
       "      <th>Trades</th>\n",
       "      <th>Deliverable Volume</th>\n",
       "      <th>%Deliverble</th>\n",
       "    </tr>\n",
       "  </thead>\n",
       "  <tbody>\n",
       "    <tr>\n",
       "      <th>0</th>\n",
       "      <td>2000-01-03</td>\n",
       "      <td>RELIANCE</td>\n",
       "      <td>EQ</td>\n",
       "      <td>233.05</td>\n",
       "      <td>237.50</td>\n",
       "      <td>251.70</td>\n",
       "      <td>237.50</td>\n",
       "      <td>251.70</td>\n",
       "      <td>251.70</td>\n",
       "      <td>249.37</td>\n",
       "      <td>4456424</td>\n",
       "      <td>1.111319e+14</td>\n",
       "      <td>NaN</td>\n",
       "      <td>NaN</td>\n",
       "      <td>NaN</td>\n",
       "    </tr>\n",
       "    <tr>\n",
       "      <th>1</th>\n",
       "      <td>2000-01-04</td>\n",
       "      <td>RELIANCE</td>\n",
       "      <td>EQ</td>\n",
       "      <td>251.70</td>\n",
       "      <td>258.40</td>\n",
       "      <td>271.85</td>\n",
       "      <td>251.30</td>\n",
       "      <td>271.85</td>\n",
       "      <td>271.85</td>\n",
       "      <td>263.52</td>\n",
       "      <td>9487878</td>\n",
       "      <td>2.500222e+14</td>\n",
       "      <td>NaN</td>\n",
       "      <td>NaN</td>\n",
       "      <td>NaN</td>\n",
       "    </tr>\n",
       "    <tr>\n",
       "      <th>2</th>\n",
       "      <td>2000-01-05</td>\n",
       "      <td>RELIANCE</td>\n",
       "      <td>EQ</td>\n",
       "      <td>271.85</td>\n",
       "      <td>256.65</td>\n",
       "      <td>287.90</td>\n",
       "      <td>256.65</td>\n",
       "      <td>286.75</td>\n",
       "      <td>282.50</td>\n",
       "      <td>274.79</td>\n",
       "      <td>26833684</td>\n",
       "      <td>7.373697e+14</td>\n",
       "      <td>NaN</td>\n",
       "      <td>NaN</td>\n",
       "      <td>NaN</td>\n",
       "    </tr>\n",
       "    <tr>\n",
       "      <th>3</th>\n",
       "      <td>2000-01-06</td>\n",
       "      <td>RELIANCE</td>\n",
       "      <td>EQ</td>\n",
       "      <td>282.50</td>\n",
       "      <td>289.00</td>\n",
       "      <td>300.70</td>\n",
       "      <td>289.00</td>\n",
       "      <td>293.50</td>\n",
       "      <td>294.35</td>\n",
       "      <td>295.45</td>\n",
       "      <td>15682286</td>\n",
       "      <td>4.633254e+14</td>\n",
       "      <td>NaN</td>\n",
       "      <td>NaN</td>\n",
       "      <td>NaN</td>\n",
       "    </tr>\n",
       "    <tr>\n",
       "      <th>4</th>\n",
       "      <td>2000-01-07</td>\n",
       "      <td>RELIANCE</td>\n",
       "      <td>EQ</td>\n",
       "      <td>294.35</td>\n",
       "      <td>295.00</td>\n",
       "      <td>317.90</td>\n",
       "      <td>293.00</td>\n",
       "      <td>314.50</td>\n",
       "      <td>314.55</td>\n",
       "      <td>308.91</td>\n",
       "      <td>19870977</td>\n",
       "      <td>6.138388e+14</td>\n",
       "      <td>NaN</td>\n",
       "      <td>NaN</td>\n",
       "      <td>NaN</td>\n",
       "    </tr>\n",
       "    <tr>\n",
       "      <th>5</th>\n",
       "      <td>2000-01-10</td>\n",
       "      <td>RELIANCE</td>\n",
       "      <td>EQ</td>\n",
       "      <td>314.55</td>\n",
       "      <td>317.40</td>\n",
       "      <td>318.70</td>\n",
       "      <td>305.30</td>\n",
       "      <td>306.65</td>\n",
       "      <td>308.50</td>\n",
       "      <td>312.35</td>\n",
       "      <td>13417057</td>\n",
       "      <td>4.190855e+14</td>\n",
       "      <td>NaN</td>\n",
       "      <td>NaN</td>\n",
       "      <td>NaN</td>\n",
       "    </tr>\n",
       "    <tr>\n",
       "      <th>6</th>\n",
       "      <td>2000-01-11</td>\n",
       "      <td>RELIANCE</td>\n",
       "      <td>EQ</td>\n",
       "      <td>308.50</td>\n",
       "      <td>307.95</td>\n",
       "      <td>310.95</td>\n",
       "      <td>283.85</td>\n",
       "      <td>288.50</td>\n",
       "      <td>288.50</td>\n",
       "      <td>296.40</td>\n",
       "      <td>12544322</td>\n",
       "      <td>3.718192e+14</td>\n",
       "      <td>NaN</td>\n",
       "      <td>NaN</td>\n",
       "      <td>NaN</td>\n",
       "    </tr>\n",
       "    <tr>\n",
       "      <th>7</th>\n",
       "      <td>2000-01-12</td>\n",
       "      <td>RELIANCE</td>\n",
       "      <td>EQ</td>\n",
       "      <td>288.50</td>\n",
       "      <td>289.00</td>\n",
       "      <td>305.00</td>\n",
       "      <td>282.15</td>\n",
       "      <td>304.70</td>\n",
       "      <td>301.70</td>\n",
       "      <td>294.57</td>\n",
       "      <td>12109507</td>\n",
       "      <td>3.567081e+14</td>\n",
       "      <td>NaN</td>\n",
       "      <td>NaN</td>\n",
       "      <td>NaN</td>\n",
       "    </tr>\n",
       "    <tr>\n",
       "      <th>8</th>\n",
       "      <td>2000-01-13</td>\n",
       "      <td>RELIANCE</td>\n",
       "      <td>EQ</td>\n",
       "      <td>301.70</td>\n",
       "      <td>306.00</td>\n",
       "      <td>316.40</td>\n",
       "      <td>304.10</td>\n",
       "      <td>309.75</td>\n",
       "      <td>311.85</td>\n",
       "      <td>311.79</td>\n",
       "      <td>17076042</td>\n",
       "      <td>5.324181e+14</td>\n",
       "      <td>NaN</td>\n",
       "      <td>NaN</td>\n",
       "      <td>NaN</td>\n",
       "    </tr>\n",
       "    <tr>\n",
       "      <th>9</th>\n",
       "      <td>2000-01-14</td>\n",
       "      <td>RELIANCE</td>\n",
       "      <td>EQ</td>\n",
       "      <td>311.85</td>\n",
       "      <td>309.50</td>\n",
       "      <td>321.65</td>\n",
       "      <td>309.50</td>\n",
       "      <td>317.00</td>\n",
       "      <td>316.30</td>\n",
       "      <td>316.17</td>\n",
       "      <td>13460592</td>\n",
       "      <td>4.255879e+14</td>\n",
       "      <td>NaN</td>\n",
       "      <td>NaN</td>\n",
       "      <td>NaN</td>\n",
       "    </tr>\n",
       "  </tbody>\n",
       "</table>\n",
       "</div>"
      ],
      "text/plain": [
       "         Date    Symbol Series  Prev Close    Open    High     Low    Last  \\\n",
       "0  2000-01-03  RELIANCE     EQ      233.05  237.50  251.70  237.50  251.70   \n",
       "1  2000-01-04  RELIANCE     EQ      251.70  258.40  271.85  251.30  271.85   \n",
       "2  2000-01-05  RELIANCE     EQ      271.85  256.65  287.90  256.65  286.75   \n",
       "3  2000-01-06  RELIANCE     EQ      282.50  289.00  300.70  289.00  293.50   \n",
       "4  2000-01-07  RELIANCE     EQ      294.35  295.00  317.90  293.00  314.50   \n",
       "5  2000-01-10  RELIANCE     EQ      314.55  317.40  318.70  305.30  306.65   \n",
       "6  2000-01-11  RELIANCE     EQ      308.50  307.95  310.95  283.85  288.50   \n",
       "7  2000-01-12  RELIANCE     EQ      288.50  289.00  305.00  282.15  304.70   \n",
       "8  2000-01-13  RELIANCE     EQ      301.70  306.00  316.40  304.10  309.75   \n",
       "9  2000-01-14  RELIANCE     EQ      311.85  309.50  321.65  309.50  317.00   \n",
       "\n",
       "    Close    VWAP    Volume      Turnover  Trades  Deliverable Volume  \\\n",
       "0  251.70  249.37   4456424  1.111319e+14     NaN                 NaN   \n",
       "1  271.85  263.52   9487878  2.500222e+14     NaN                 NaN   \n",
       "2  282.50  274.79  26833684  7.373697e+14     NaN                 NaN   \n",
       "3  294.35  295.45  15682286  4.633254e+14     NaN                 NaN   \n",
       "4  314.55  308.91  19870977  6.138388e+14     NaN                 NaN   \n",
       "5  308.50  312.35  13417057  4.190855e+14     NaN                 NaN   \n",
       "6  288.50  296.40  12544322  3.718192e+14     NaN                 NaN   \n",
       "7  301.70  294.57  12109507  3.567081e+14     NaN                 NaN   \n",
       "8  311.85  311.79  17076042  5.324181e+14     NaN                 NaN   \n",
       "9  316.30  316.17  13460592  4.255879e+14     NaN                 NaN   \n",
       "\n",
       "   %Deliverble  \n",
       "0          NaN  \n",
       "1          NaN  \n",
       "2          NaN  \n",
       "3          NaN  \n",
       "4          NaN  \n",
       "5          NaN  \n",
       "6          NaN  \n",
       "7          NaN  \n",
       "8          NaN  \n",
       "9          NaN  "
      ]
     },
     "execution_count": 7,
     "metadata": {},
     "output_type": "execute_result"
    }
   ],
   "source": [
    "data.head(n=10)"
   ]
  },
  {
   "cell_type": "code",
   "execution_count": 9,
   "metadata": {},
   "outputs": [
    {
     "name": "stdout",
     "output_type": "stream",
     "text": [
      "Index(['Date', 'Symbol', 'Series', 'Prev Close', 'Open', 'High', 'Low', 'Last',\n",
      "       'Close', 'VWAP', 'Volume', 'Turnover', 'Trades', 'Deliverable Volume',\n",
      "       '%Deliverble'],\n",
      "      dtype='object')\n"
     ]
    }
   ],
   "source": [
    "print(data.columns)"
   ]
  },
  {
   "cell_type": "code",
   "execution_count": 10,
   "metadata": {},
   "outputs": [],
   "source": [
    "features_to_drop = ['Date', 'Symbol', 'Series', 'Prev Close', 'Last', 'VWAP', 'Volume', 'Turnover', 'Trades', 'Deliverable Volume',\n",
    "                       '%Deliverble']"
   ]
  },
  {
   "cell_type": "code",
   "execution_count": 11,
   "metadata": {},
   "outputs": [],
   "source": [
    "data = data.drop(columns=features_to_drop)"
   ]
  },
  {
   "cell_type": "code",
   "execution_count": 12,
   "metadata": {},
   "outputs": [
    {
     "data": {
      "text/html": [
       "<div>\n",
       "<style scoped>\n",
       "    .dataframe tbody tr th:only-of-type {\n",
       "        vertical-align: middle;\n",
       "    }\n",
       "\n",
       "    .dataframe tbody tr th {\n",
       "        vertical-align: top;\n",
       "    }\n",
       "\n",
       "    .dataframe thead th {\n",
       "        text-align: right;\n",
       "    }\n",
       "</style>\n",
       "<table border=\"1\" class=\"dataframe\">\n",
       "  <thead>\n",
       "    <tr style=\"text-align: right;\">\n",
       "      <th></th>\n",
       "      <th>Open</th>\n",
       "      <th>High</th>\n",
       "      <th>Low</th>\n",
       "      <th>Close</th>\n",
       "    </tr>\n",
       "  </thead>\n",
       "  <tbody>\n",
       "    <tr>\n",
       "      <th>0</th>\n",
       "      <td>237.50</td>\n",
       "      <td>251.70</td>\n",
       "      <td>237.50</td>\n",
       "      <td>251.70</td>\n",
       "    </tr>\n",
       "    <tr>\n",
       "      <th>1</th>\n",
       "      <td>258.40</td>\n",
       "      <td>271.85</td>\n",
       "      <td>251.30</td>\n",
       "      <td>271.85</td>\n",
       "    </tr>\n",
       "    <tr>\n",
       "      <th>2</th>\n",
       "      <td>256.65</td>\n",
       "      <td>287.90</td>\n",
       "      <td>256.65</td>\n",
       "      <td>282.50</td>\n",
       "    </tr>\n",
       "    <tr>\n",
       "      <th>3</th>\n",
       "      <td>289.00</td>\n",
       "      <td>300.70</td>\n",
       "      <td>289.00</td>\n",
       "      <td>294.35</td>\n",
       "    </tr>\n",
       "    <tr>\n",
       "      <th>4</th>\n",
       "      <td>295.00</td>\n",
       "      <td>317.90</td>\n",
       "      <td>293.00</td>\n",
       "      <td>314.55</td>\n",
       "    </tr>\n",
       "    <tr>\n",
       "      <th>5</th>\n",
       "      <td>317.40</td>\n",
       "      <td>318.70</td>\n",
       "      <td>305.30</td>\n",
       "      <td>308.50</td>\n",
       "    </tr>\n",
       "    <tr>\n",
       "      <th>6</th>\n",
       "      <td>307.95</td>\n",
       "      <td>310.95</td>\n",
       "      <td>283.85</td>\n",
       "      <td>288.50</td>\n",
       "    </tr>\n",
       "    <tr>\n",
       "      <th>7</th>\n",
       "      <td>289.00</td>\n",
       "      <td>305.00</td>\n",
       "      <td>282.15</td>\n",
       "      <td>301.70</td>\n",
       "    </tr>\n",
       "    <tr>\n",
       "      <th>8</th>\n",
       "      <td>306.00</td>\n",
       "      <td>316.40</td>\n",
       "      <td>304.10</td>\n",
       "      <td>311.85</td>\n",
       "    </tr>\n",
       "    <tr>\n",
       "      <th>9</th>\n",
       "      <td>309.50</td>\n",
       "      <td>321.65</td>\n",
       "      <td>309.50</td>\n",
       "      <td>316.30</td>\n",
       "    </tr>\n",
       "  </tbody>\n",
       "</table>\n",
       "</div>"
      ],
      "text/plain": [
       "     Open    High     Low   Close\n",
       "0  237.50  251.70  237.50  251.70\n",
       "1  258.40  271.85  251.30  271.85\n",
       "2  256.65  287.90  256.65  282.50\n",
       "3  289.00  300.70  289.00  294.35\n",
       "4  295.00  317.90  293.00  314.55\n",
       "5  317.40  318.70  305.30  308.50\n",
       "6  307.95  310.95  283.85  288.50\n",
       "7  289.00  305.00  282.15  301.70\n",
       "8  306.00  316.40  304.10  311.85\n",
       "9  309.50  321.65  309.50  316.30"
      ]
     },
     "execution_count": 12,
     "metadata": {},
     "output_type": "execute_result"
    }
   ],
   "source": [
    "data.head(n=10)"
   ]
  },
  {
   "cell_type": "code",
   "execution_count": 13,
   "metadata": {},
   "outputs": [],
   "source": [
    "## we have to normailize close but at the time of prediction we should have denomalized output\n",
    "\n",
    "X = data.values\n",
    "mean = np.mean(X , axis =0)\n",
    "std = np.std(X , axis =0)"
   ]
  },
  {
   "cell_type": "code",
   "execution_count": 16,
   "metadata": {},
   "outputs": [
    {
     "name": "stdout",
     "output_type": "stream",
     "text": [
      "[979.23433184 993.16607664 963.9572943  978.09645983]\n"
     ]
    }
   ],
   "source": [
    "print(mean)"
   ]
  },
  {
   "cell_type": "code",
   "execution_count": 17,
   "metadata": {},
   "outputs": [
    {
     "name": "stdout",
     "output_type": "stream",
     "text": [
      "[549.60410704 559.14059906 537.7070675  548.25189454]\n"
     ]
    }
   ],
   "source": [
    "print(std)"
   ]
  },
  {
   "cell_type": "code",
   "execution_count": 18,
   "metadata": {},
   "outputs": [],
   "source": [
    "X =( X - mean )/std"
   ]
  },
  {
   "cell_type": "code",
   "execution_count": 19,
   "metadata": {},
   "outputs": [
    {
     "name": "stdout",
     "output_type": "stream",
     "text": [
      "[ 2.21137595e-16  2.21137595e-17  1.87966956e-16 -2.21137595e-17]\n"
     ]
    }
   ],
   "source": [
    "print( np.mean(X , axis=0))"
   ]
  },
  {
   "cell_type": "code",
   "execution_count": 20,
   "metadata": {},
   "outputs": [
    {
     "name": "stdout",
     "output_type": "stream",
     "text": [
      "[1. 1. 1. 1.]\n"
     ]
    }
   ],
   "source": [
    "print( np.std(X , axis=0))"
   ]
  },
  {
   "cell_type": "code",
   "execution_count": 21,
   "metadata": {},
   "outputs": [],
   "source": [
    "## for rnn model we need data in form of  sequence \n",
    "## here we are deciding to take sequence length of 10 and 11th will be the prediction\n",
    "\n",
    "Sequence_length = 11\n"
   ]
  },
  {
   "cell_type": "code",
   "execution_count": 22,
   "metadata": {},
   "outputs": [],
   "source": [
    "data_x = []\n",
    "data_y = []\n",
    "\n",
    "\n",
    "for i in range(len(X) - Sequence_length ):\n",
    "    window = X[i:i+Sequence_length]\n",
    "    x = window[:-1] \n",
    "    y = window[-1, [0]] \n",
    "\n",
    "    data_x.append(x)\n",
    "    data_y.append(y)\n",
    "    \n"
   ]
  },
  {
   "cell_type": "code",
   "execution_count": 23,
   "metadata": {},
   "outputs": [],
   "source": [
    "X_sequence =np.array( data_x[:-1])"
   ]
  },
  {
   "cell_type": "code",
   "execution_count": 24,
   "metadata": {},
   "outputs": [],
   "source": [
    "Y =np.array( data_y)"
   ]
  },
  {
   "cell_type": "code",
   "execution_count": 32,
   "metadata": {},
   "outputs": [
    {
     "name": "stdout",
     "output_type": "stream",
     "text": [
      "(5129, 10, 4)\n"
     ]
    }
   ],
   "source": [
    "print(X_sequence.shape)"
   ]
  },
  {
   "cell_type": "code",
   "execution_count": 33,
   "metadata": {},
   "outputs": [
    {
     "name": "stdout",
     "output_type": "stream",
     "text": [
      "5130\n"
     ]
    }
   ],
   "source": [
    "print(len(Y))"
   ]
  },
  {
   "cell_type": "code",
   "execution_count": 31,
   "metadata": {},
   "outputs": [
    {
     "name": "stdout",
     "output_type": "stream",
     "text": [
      "[[-1.34957931 -1.32608163 -1.35102798 -1.32493196]\n",
      " [-1.31155194 -1.29004418 -1.32536345 -1.28817879]\n",
      " [-1.31473605 -1.26133942 -1.3154138  -1.26875341]\n",
      " [-1.2558755  -1.23844714 -1.25525093 -1.24713926]\n",
      " [-1.24495855 -1.20768565 -1.24781193 -1.21029488]\n",
      " [-1.20420194 -1.20625488 -1.22493702 -1.22132995]\n",
      " [-1.22139613 -1.22011544 -1.26482863 -1.25780953]\n",
      " [-1.2558755  -1.23075677 -1.2679902  -1.23373301]\n",
      " [-1.22494414 -1.21036834 -1.22716872 -1.21521962]\n",
      " [-1.21857592 -1.20097893 -1.21712608 -1.20710291]]\n"
     ]
    }
   ],
   "source": [
    "print(X_sequence[0])"
   ]
  },
  {
   "cell_type": "code",
   "execution_count": 30,
   "metadata": {},
   "outputs": [
    {
     "name": "stdout",
     "output_type": "stream",
     "text": [
      "[[-1.20265537]\n",
      " [-1.21948567]\n",
      " [-1.19428571]\n",
      " ...\n",
      " [ 2.01193123]\n",
      " [ 2.1265592 ]\n",
      " [ 2.07561343]]\n"
     ]
    }
   ],
   "source": [
    "print(Y)"
   ]
  },
  {
   "cell_type": "code",
   "execution_count": 29,
   "metadata": {},
   "outputs": [
    {
     "name": "stdout",
     "output_type": "stream",
     "text": [
      "11\n"
     ]
    }
   ],
   "source": [
    "print(Sequence_length)"
   ]
  },
  {
   "cell_type": "code",
   "execution_count": 105,
   "metadata": {},
   "outputs": [],
   "source": [
    "np.save(\"data/mean_10\",mean)\n",
    "np.save(\"data/std_10\",std)\n",
    "\n",
    "np.save(\"data/Y\",Y)\n",
    "np.save(\"data/X\",X_sequence)"
   ]
  }
 ],
 "metadata": {
  "kernelspec": {
   "display_name": "Python 3",
   "language": "python",
   "name": "python3"
  },
  "language_info": {
   "codemirror_mode": {
    "name": "ipython",
    "version": 3
   },
   "file_extension": ".py",
   "mimetype": "text/x-python",
   "name": "python",
   "nbconvert_exporter": "python",
   "pygments_lexer": "ipython3",
   "version": "3.6.6"
  }
 },
 "nbformat": 4,
 "nbformat_minor": 2
}
